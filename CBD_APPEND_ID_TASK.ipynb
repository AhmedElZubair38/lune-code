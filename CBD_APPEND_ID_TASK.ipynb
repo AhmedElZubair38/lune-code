{
  "nbformat": 4,
  "nbformat_minor": 0,
  "metadata": {
    "colab": {
      "provenance": []
    },
    "kernelspec": {
      "name": "python3",
      "display_name": "Python 3"
    },
    "language_info": {
      "name": "python"
    }
  },
  "cells": [
    {
      "cell_type": "code",
      "source": [],
      "metadata": {
        "id": "9a5gKaZdkC6A"
      },
      "execution_count": null,
      "outputs": []
    },
    {
      "cell_type": "code",
      "source": [],
      "metadata": {
        "id": "d5obLX5NkC37"
      },
      "execution_count": null,
      "outputs": []
    },
    {
      "cell_type": "code",
      "source": [],
      "metadata": {
        "id": "T2fMUF9QkC11"
      },
      "execution_count": null,
      "outputs": []
    },
    {
      "cell_type": "code",
      "source": [],
      "metadata": {
        "id": "WQnGkmX8mS5N"
      },
      "execution_count": null,
      "outputs": []
    },
    {
      "cell_type": "code",
      "source": [],
      "metadata": {
        "id": "jbTJ6EunmS0P"
      },
      "execution_count": null,
      "outputs": []
    },
    {
      "cell_type": "code",
      "source": [],
      "metadata": {
        "id": "TZDfJ4NhmSya"
      },
      "execution_count": null,
      "outputs": []
    },
    {
      "cell_type": "code",
      "source": [],
      "metadata": {
        "id": "7Mi4hVC0mSwV"
      },
      "execution_count": null,
      "outputs": []
    },
    {
      "cell_type": "code",
      "source": [],
      "metadata": {
        "id": "D7Chj3wumSuR"
      },
      "execution_count": null,
      "outputs": []
    },
    {
      "cell_type": "code",
      "source": [],
      "metadata": {
        "id": "AJqAF8SmmSsN"
      },
      "execution_count": null,
      "outputs": []
    },
    {
      "cell_type": "markdown",
      "source": [
        "# **DEBIT**"
      ],
      "metadata": {
        "id": "HnEz75u-nFCZ"
      }
    },
    {
      "cell_type": "code",
      "source": [
        "import pandas as pd\n",
        "import numpy as np\n",
        "\n",
        "init_df = pd.read_csv(\"CBD DEBIT INIT.csv\", dtype={'TXN_REF_NB': str})\n",
        "output_df = pd.read_csv(\"CBD DEBIT OUTPUT.csv\")\n",
        "\n",
        "init_df['TXN_REF_NB'] = init_df['TXN_REF_NB'].str.zfill(12)\n",
        "\n",
        "init_df_renamed = init_df.rename(columns={\n",
        "    'ISSU_CRCY_EQ_AM': 'Amount',\n",
        "    'MRCH_TY_CD': 'Mcc',\n",
        "    'ACPTR_NM': 'Raw description'\n",
        "})\n",
        "\n",
        "init_df_unique = init_df_renamed.drop_duplicates(subset=['Amount', 'Mcc', 'Raw description']).copy()\n",
        "\n",
        "init_df_unique['Amount'] = init_df_unique['Amount'].astype(float)\n",
        "output_df['Amount'] = output_df['Amount'].astype(float)\n",
        "\n",
        "def fuzzy_merge_unique(df1, df2, on, tolerance):\n",
        "    merged = []\n",
        "    for idx, row in df2.iterrows():\n",
        "        matches = df1[\n",
        "            (np.abs(df1[on] - row[on]) <= tolerance) &\n",
        "            (df1['Mcc'] == row['Mcc']) &\n",
        "            (df1['Raw description'] == row['Raw description'])\n",
        "        ]\n",
        "        if not matches.empty:\n",
        "            matches = matches.copy()\n",
        "            matches['diff'] = np.abs(matches[on] - row[on])\n",
        "            match_row = matches.sort_values('diff').iloc[0]\n",
        "            merged.append({**row, 'TXN_REF_NB': match_row['TXN_REF_NB']})\n",
        "        else:\n",
        "            merged.append({**row, 'TXN_REF_NB': None})\n",
        "    return pd.DataFrame(merged)\n",
        "\n",
        "merged_df = fuzzy_merge_unique(init_df_unique, output_df, 'Amount', tolerance=1)\n",
        "\n",
        "cols = ['TXN_REF_NB'] + [col for col in merged_df.columns if col != 'TXN_REF_NB']\n",
        "merged_df = merged_df[cols]\n",
        "\n",
        "merged_df.to_excel(\"CBD DEBIT OUTPUT FINAL FIX.xlsx\", index=False)\n",
        "\n",
        "print(\"✅ Done: TXN_REF_NB uniquely matched using fuzzy matching with tolerance, moved to front, and saved correctly.\")"
      ],
      "metadata": {
        "colab": {
          "base_uri": "https://localhost:8080/"
        },
        "id": "dtUeKDxZkCzw",
        "outputId": "f02bbe67-9a30-4339-cec1-f779a0ead3eb"
      },
      "execution_count": null,
      "outputs": [
        {
          "output_type": "stream",
          "name": "stdout",
          "text": [
            "✅ Done: TXN_REF_NB uniquely matched using fuzzy matching with tolerance, moved to front, and saved correctly.\n"
          ]
        }
      ]
    },
    {
      "cell_type": "code",
      "source": [],
      "metadata": {
        "id": "c1c0vsltkCx8"
      },
      "execution_count": null,
      "outputs": []
    },
    {
      "cell_type": "code",
      "source": [],
      "metadata": {
        "id": "MheJSdntkCv3"
      },
      "execution_count": null,
      "outputs": []
    },
    {
      "cell_type": "code",
      "source": [],
      "metadata": {
        "id": "_dZz4T_VkCuC"
      },
      "execution_count": null,
      "outputs": []
    },
    {
      "cell_type": "code",
      "source": [],
      "metadata": {
        "id": "Dzl0yZcFkCr8"
      },
      "execution_count": null,
      "outputs": []
    },
    {
      "cell_type": "code",
      "source": [],
      "metadata": {
        "id": "sXpv4gIJkCqI"
      },
      "execution_count": null,
      "outputs": []
    },
    {
      "cell_type": "code",
      "source": [],
      "metadata": {
        "id": "MqV3vp7ukCnz"
      },
      "execution_count": null,
      "outputs": []
    },
    {
      "cell_type": "markdown",
      "source": [
        "# **ATM**"
      ],
      "metadata": {
        "id": "OFAiVSIYnJL_"
      }
    },
    {
      "cell_type": "code",
      "source": [
        "import pandas as pd\n",
        "import numpy as np\n",
        "\n",
        "init_df = pd.read_csv(\"CBD ATM INIT.csv\", dtype={'TXN_REF_NB': str})\n",
        "output_df = pd.read_csv(\"CBD ATM OUTPUT.csv\")\n",
        "\n",
        "init_df['TXN_REF_NB'] = init_df['TXN_REF_NB'].str.zfill(12)\n",
        "\n",
        "init_df_renamed = init_df.rename(columns={\n",
        "    'TXN_AM': 'Amount',\n",
        "    'MRCH_TY_CD': 'Mcc',\n",
        "    'ACPTR_NM': 'Raw Description'\n",
        "})\n",
        "\n",
        "init_df_unique = init_df_renamed.drop_duplicates(subset=['Amount', 'Mcc', 'Raw Description']).copy()\n",
        "\n",
        "init_df_unique['Amount'] = init_df_unique['Amount'].astype(float)\n",
        "output_df['Amount'] = output_df['Amount'].astype(float)\n",
        "\n",
        "def fuzzy_merge_unique(df1, df2, on, tolerance):\n",
        "    merged = []\n",
        "    for idx, row in df2.iterrows():\n",
        "        matches = df1[\n",
        "            (np.abs(df1[on] - row[on]) <= tolerance) &\n",
        "            (df1['Mcc'] == row['Mcc']) &\n",
        "            (df1['Raw Description'] == row['Raw Description'])\n",
        "        ]\n",
        "        if not matches.empty:\n",
        "            matches = matches.copy()\n",
        "            matches['diff'] = np.abs(matches[on] - row[on])\n",
        "            match_row = matches.sort_values('diff').iloc[0]\n",
        "            merged.append({**row, 'TXN_REF_NB': match_row['TXN_REF_NB']})\n",
        "        else:\n",
        "            merged.append({**row, 'TXN_REF_NB': None})\n",
        "    return pd.DataFrame(merged)\n",
        "\n",
        "merged_df = fuzzy_merge_unique(init_df_unique, output_df, 'Amount', tolerance=0.1)\n",
        "\n",
        "cols = ['TXN_REF_NB'] + [col for col in merged_df.columns if col != 'TXN_REF_NB']\n",
        "merged_df = merged_df[cols]\n",
        "\n",
        "merged_df.to_excel(\"CBD ATM OUTPUT FINAL FIX.xlsx\", index=False)\n",
        "\n",
        "print(\"✅ Done: TXN_REF_NB uniquely matched using fuzzy matching with tolerance, moved to front, and saved correctly.\")"
      ],
      "metadata": {
        "id": "Hjw0WWoHF6Gb",
        "colab": {
          "base_uri": "https://localhost:8080/"
        },
        "outputId": "28a937c8-d29b-4850-968e-e649643b46eb"
      },
      "execution_count": null,
      "outputs": [
        {
          "output_type": "stream",
          "name": "stdout",
          "text": [
            "✅ Done: TXN_REF_NB uniquely matched using fuzzy matching with tolerance, moved to front, and saved correctly.\n"
          ]
        }
      ]
    },
    {
      "cell_type": "code",
      "source": [],
      "metadata": {
        "id": "R2DuQnATkBwD"
      },
      "execution_count": null,
      "outputs": []
    },
    {
      "cell_type": "code",
      "source": [],
      "metadata": {
        "id": "eAfJ1ltokBsb"
      },
      "execution_count": null,
      "outputs": []
    },
    {
      "cell_type": "code",
      "source": [],
      "metadata": {
        "id": "RKfWFaPtkBqU"
      },
      "execution_count": null,
      "outputs": []
    },
    {
      "cell_type": "code",
      "source": [],
      "metadata": {
        "id": "4R4o-Gl0kBn-"
      },
      "execution_count": null,
      "outputs": []
    },
    {
      "cell_type": "code",
      "source": [],
      "metadata": {
        "id": "zzn3MQUCkBl7"
      },
      "execution_count": null,
      "outputs": []
    },
    {
      "cell_type": "markdown",
      "source": [
        "# **CC (credit)**"
      ],
      "metadata": {
        "id": "nNFNTXKqnOQD"
      }
    },
    {
      "cell_type": "code",
      "source": [
        "import pandas as pd\n",
        "import numpy as np\n",
        "\n",
        "init_df = pd.read_csv(\"CBD CC INIT.csv\", dtype={'REF_NB': str})\n",
        "output_df = pd.read_csv(\"CBD CC OUTPUT.csv\")\n",
        "\n",
        "# init_df['REF_NB'] = init_df['REF_NB'].str.zfill(12)\n",
        "\n",
        "init_df_renamed = init_df.rename(columns={\n",
        "    'TXN_AM': 'Amount',\n",
        "    'MRCH_CAT_CD': 'Mcc',\n",
        "    'TXN_DESC_TX': 'Raw description'\n",
        "})\n",
        "\n",
        "init_df_unique = init_df_renamed.drop_duplicates(subset=['Amount', 'Mcc', 'Raw description']).copy()\n",
        "\n",
        "init_df_unique['Amount'] = init_df_unique['Amount'].astype(float)\n",
        "output_df['Amount'] = output_df['Amount'].astype(float)\n",
        "\n",
        "def fuzzy_merge_unique(df1, df2, on, tolerance):\n",
        "    merged = []\n",
        "    for idx, row in df2.iterrows():\n",
        "        matches = df1[\n",
        "            (np.abs(df1[on] - row[on]) <= tolerance) &\n",
        "            (df1['Mcc'] == row['Mcc']) &\n",
        "            (df1['Raw description'] == row['Raw description'])\n",
        "        ]\n",
        "        if not matches.empty:\n",
        "            matches = matches.copy()\n",
        "            matches['diff'] = np.abs(matches[on] - row[on])\n",
        "            match_row = matches.sort_values('diff').iloc[0]\n",
        "            merged.append({**row, 'REF_NB': match_row['REF_NB']})\n",
        "        else:\n",
        "            merged.append({**row, 'REF_NB': None})\n",
        "    return pd.DataFrame(merged)\n",
        "\n",
        "merged_df = fuzzy_merge_unique(init_df_unique, output_df, 'Amount', tolerance=1)\n",
        "\n",
        "cols = ['REF_NB'] + [col for col in merged_df.columns if col != 'REF_NB']\n",
        "merged_df = merged_df[cols]\n",
        "\n",
        "merged_df.to_excel(\"CBD CC OUTPUT FINAL FIX.xlsx\", index=False)\n",
        "\n",
        "print(\"✅ Done: REF_NB uniquely matched using fuzzy matching with tolerance, moved to front, and saved correctly.\")"
      ],
      "metadata": {
        "colab": {
          "base_uri": "https://localhost:8080/"
        },
        "id": "PyZuKV_-kBjC",
        "outputId": "4fc50627-479f-462c-e11b-a7ee386a27a4"
      },
      "execution_count": null,
      "outputs": [
        {
          "output_type": "stream",
          "name": "stdout",
          "text": [
            "✅ Done: TXN_REF_NB uniquely matched using fuzzy matching with tolerance, moved to front, and saved correctly.\n"
          ]
        }
      ]
    },
    {
      "cell_type": "code",
      "source": [],
      "metadata": {
        "id": "8tyFT1oCkBfY"
      },
      "execution_count": null,
      "outputs": []
    },
    {
      "cell_type": "code",
      "source": [],
      "metadata": {
        "id": "3kZlM8NJkBZZ"
      },
      "execution_count": null,
      "outputs": []
    },
    {
      "cell_type": "code",
      "source": [],
      "metadata": {
        "id": "kVpAToxEkBRU"
      },
      "execution_count": null,
      "outputs": []
    },
    {
      "cell_type": "code",
      "source": [],
      "metadata": {
        "id": "NQ2WVJIlkBH_"
      },
      "execution_count": null,
      "outputs": []
    },
    {
      "cell_type": "markdown",
      "source": [
        "# **DR**"
      ],
      "metadata": {
        "id": "a0qqUJCZvhsa"
      }
    },
    {
      "cell_type": "code",
      "source": [
        "import pandas as pd\n",
        "import numpy as np\n",
        "\n",
        "init_df = pd.read_csv(\"CBD ACC DR INIT.csv\", dtype={'DP_history_PTID': str})\n",
        "output_df = pd.read_csv(\"CBD ACC DR OUTPUT.csv\")\n",
        "\n",
        "init_df_renamed = init_df.rename(columns={\n",
        "    'DP_history_amount_FCY': 'Amount',\n",
        "    'DP_history_Transaction_Desc': 'Raw description'\n",
        "})\n",
        "\n",
        "init_df_unique = init_df_renamed.drop_duplicates(subset=['Amount', 'Raw description']).copy()\n",
        "\n",
        "init_df_unique['Amount'] = init_df_unique['Amount'].astype(float)\n",
        "output_df['Amount'] = output_df['Amount'].astype(float)\n",
        "\n",
        "def fuzzy_merge_unique(df1, df2, on, tolerance):\n",
        "    merged = []\n",
        "    for idx, row in df2.iterrows():\n",
        "        matches = df1[\n",
        "            (np.abs(df1[on] - row[on]) <= tolerance) &\n",
        "            (df1['Raw description'] == row['Raw description'])\n",
        "        ]\n",
        "        if not matches.empty:\n",
        "            matches = matches.copy()\n",
        "            matches['diff'] = np.abs(matches[on] - row[on])\n",
        "            match_row = matches.sort_values('diff').iloc[0]\n",
        "            merged.append({**row, 'DP_history_PTID': match_row['DP_history_PTID']})\n",
        "        else:\n",
        "            merged.append({**row, 'DP_history_PTID': None})\n",
        "    return pd.DataFrame(merged)\n",
        "\n",
        "merged_df = fuzzy_merge_unique(init_df_unique, output_df, 'Amount', tolerance=1)\n",
        "\n",
        "cols = ['DP_history_PTID'] + [col for col in merged_df.columns if col != 'DP_history_PTID']\n",
        "merged_df = merged_df[cols]\n",
        "\n",
        "merged_df.to_excel(\"CBD ACC DR OUTPUT FINAL FIX.xlsx\", index=False)\n",
        "\n",
        "print(\"✅ Done: DP_history_PTID uniquely matched using fuzzy matching with tolerance, moved to front, and saved correctly.\")"
      ],
      "metadata": {
        "colab": {
          "base_uri": "https://localhost:8080/"
        },
        "id": "1EvhYQw4jgQq",
        "outputId": "978b43da-d620-4b05-ef05-83e5d8dc28df"
      },
      "execution_count": null,
      "outputs": [
        {
          "output_type": "stream",
          "name": "stdout",
          "text": [
            "✅ Done: DP_history_PTID uniquely matched using fuzzy matching with tolerance, moved to front, and saved correctly.\n"
          ]
        }
      ]
    },
    {
      "cell_type": "code",
      "source": [],
      "metadata": {
        "id": "47Xx8QXtxvAC"
      },
      "execution_count": null,
      "outputs": []
    },
    {
      "cell_type": "code",
      "source": [],
      "metadata": {
        "id": "_B53A9Tt8JBp"
      },
      "execution_count": null,
      "outputs": []
    },
    {
      "cell_type": "code",
      "source": [],
      "metadata": {
        "id": "6FBSY2o_8I-Q"
      },
      "execution_count": null,
      "outputs": []
    },
    {
      "cell_type": "code",
      "source": [],
      "metadata": {
        "id": "zB4SiGDF8I76"
      },
      "execution_count": null,
      "outputs": []
    },
    {
      "cell_type": "code",
      "source": [],
      "metadata": {
        "id": "KSziy-Dz8I5k"
      },
      "execution_count": null,
      "outputs": []
    },
    {
      "cell_type": "code",
      "source": [],
      "metadata": {
        "id": "EGtdIdyN8I3L"
      },
      "execution_count": null,
      "outputs": []
    },
    {
      "cell_type": "markdown",
      "source": [
        "# **CR**"
      ],
      "metadata": {
        "id": "_d3eO1vC8KxI"
      }
    },
    {
      "cell_type": "code",
      "source": [
        "import pandas as pd\n",
        "import numpy as np\n",
        "\n",
        "init_df = pd.read_csv(\"CBD ACC CR INIT.csv\", dtype={'DP_history_PTID': str})\n",
        "output_df = pd.read_csv(\"CBD ACC CR OUTPUT.csv\")\n",
        "\n",
        "init_df_renamed = init_df.rename(columns={\n",
        "    'DP_history_amount_FCY': 'Amount',\n",
        "    'DP_history_Transaction_Desc': 'Raw description'\n",
        "})\n",
        "\n",
        "init_df_unique = init_df_renamed.drop_duplicates(subset=['Amount', 'Raw description']).copy()\n",
        "\n",
        "init_df_unique['Amount'] = init_df_unique['Amount'].astype(float)\n",
        "output_df['Amount'] = output_df['Amount'].astype(float)\n",
        "\n",
        "def fuzzy_merge_unique(df1, df2, on, tolerance):\n",
        "    merged = []\n",
        "    for idx, row in df2.iterrows():\n",
        "        matches = df1[\n",
        "            (np.abs(df1[on] - row[on]) <= tolerance) &\n",
        "            (df1['Raw description'] == row['Raw description'])\n",
        "        ]\n",
        "        if not matches.empty:\n",
        "            matches = matches.copy()\n",
        "            matches['diff'] = np.abs(matches[on] - row[on])\n",
        "            match_row = matches.sort_values('diff').iloc[0]\n",
        "            merged.append({**row, 'DP_history_PTID': match_row['DP_history_PTID']})\n",
        "        else:\n",
        "            merged.append({**row, 'DP_history_PTID': None})\n",
        "    return pd.DataFrame(merged)\n",
        "\n",
        "merged_df = fuzzy_merge_unique(init_df_unique, output_df, 'Amount', tolerance=1)\n",
        "\n",
        "cols = ['DP_history_PTID'] + [col for col in merged_df.columns if col != 'DP_history_PTID']\n",
        "merged_df = merged_df[cols]\n",
        "\n",
        "merged_df.to_excel(\"CBD ACC CR OUTPUT FINAL FIX.xlsx\", index=False)\n",
        "\n",
        "print(\"✅ Done: DP_history_PTID uniquely matched using fuzzy matching with tolerance, moved to front, and saved correctly.\")"
      ],
      "metadata": {
        "id": "Faw5_0hH8Iw0",
        "colab": {
          "base_uri": "https://localhost:8080/"
        },
        "outputId": "b4b10fb7-88c2-4fda-bc37-7dca56fb9e96"
      },
      "execution_count": 41,
      "outputs": [
        {
          "output_type": "stream",
          "name": "stdout",
          "text": [
            "✅ Done: DP_history_PTID uniquely matched using fuzzy matching with tolerance, moved to front, and saved correctly.\n"
          ]
        }
      ]
    },
    {
      "cell_type": "code",
      "source": [],
      "metadata": {
        "id": "IBVZ_rExSlFv"
      },
      "execution_count": null,
      "outputs": []
    }
  ]
}