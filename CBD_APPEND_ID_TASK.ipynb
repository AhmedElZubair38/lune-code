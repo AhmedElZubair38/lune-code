{
  "cells": [
    {
      "cell_type": "markdown",
      "metadata": {
        "id": "REAVc8dglMAm"
      },
      "source": [
        "# **CBD APPEND ID TASK**"
      ]
    },
    {
      "cell_type": "markdown",
      "metadata": {
        "id": "G9x7hlv5lT15"
      },
      "source": [
        "---"
      ]
    },
    {
      "cell_type": "markdown",
      "metadata": {
        "id": "HnEz75u-nFCZ"
      },
      "source": [
        "# **DEBIT**"
      ]
    },
    {
      "cell_type": "code",
      "execution_count": 9,
      "metadata": {
        "colab": {
          "base_uri": "https://localhost:8080/"
        },
        "id": "dtUeKDxZkCzw",
        "outputId": "f02bbe67-9a30-4339-cec1-f779a0ead3eb"
      },
      "outputs": [
        {
          "name": "stdout",
          "output_type": "stream",
          "text": [
            "✅ Done: TXN_REF_NB uniquely matched using fuzzy matching with tolerance, moved to front, and saved correctly.\n"
          ]
        }
      ],
      "source": [
        "import pandas as pd\n",
        "import numpy as np\n",
        "\n",
        "init_df = pd.read_csv(\"CBD_FILES/CBD DEBIT INIT.csv\", dtype={'TXN_REF_NB': str})\n",
        "output_df = pd.read_csv(\"CBD_FILES/CBD DEBIT OUTPUT.csv\")\n",
        "\n",
        "init_df['TXN_REF_NB'] = init_df['TXN_REF_NB'].str.zfill(12)\n",
        "\n",
        "init_df_renamed = init_df.rename(columns={\n",
        "    'ISSU_CRCY_EQ_AM': 'Amount',\n",
        "    'MRCH_TY_CD': 'Mcc',\n",
        "    'ACPTR_NM': 'Raw description'\n",
        "})\n",
        "\n",
        "init_df_unique = init_df_renamed.drop_duplicates(subset=['Amount', 'Mcc', 'Raw description']).copy()\n",
        "\n",
        "init_df_unique['Amount'] = init_df_unique['Amount'].astype(float)\n",
        "output_df['Amount'] = output_df['Amount'].astype(float)\n",
        "\n",
        "def fuzzy_merge_unique(df1, df2, on, tolerance):\n",
        "    merged = []\n",
        "    for idx, row in df2.iterrows():\n",
        "        matches = df1[\n",
        "            (np.abs(df1[on] - row[on]) <= tolerance) &\n",
        "            (df1['Mcc'] == row['Mcc']) &\n",
        "            (df1['Raw description'] == row['Raw description'])\n",
        "        ]\n",
        "        if not matches.empty:\n",
        "            matches = matches.copy()\n",
        "            matches['diff'] = np.abs(matches[on] - row[on])\n",
        "            match_row = matches.sort_values('diff').iloc[0]\n",
        "            merged.append({**row, 'TXN_REF_NB': match_row['TXN_REF_NB']})\n",
        "        else:\n",
        "            merged.append({**row, 'TXN_REF_NB': None})\n",
        "    return pd.DataFrame(merged)\n",
        "\n",
        "merged_df = fuzzy_merge_unique(init_df_unique, output_df, 'Amount', tolerance=1)\n",
        "\n",
        "cols = ['TXN_REF_NB'] + [col for col in merged_df.columns if col != 'TXN_REF_NB']\n",
        "merged_df = merged_df[cols]\n",
        "\n",
        "merged_df.to_excel(\"CBD_FILES/CBD DEBIT OUTPUT FINAL FIX.xlsx\", index=False)\n",
        "\n",
        "print(\"✅ Done: TXN_REF_NB uniquely matched using fuzzy matching with tolerance, moved to front, and saved correctly.\")"
      ]
    },
    {
      "cell_type": "markdown",
      "metadata": {
        "id": "Q_cvcxBolV0N"
      },
      "source": [
        "---"
      ]
    },
    {
      "cell_type": "markdown",
      "metadata": {
        "id": "OFAiVSIYnJL_"
      },
      "source": [
        "# **ATM**"
      ]
    },
    {
      "cell_type": "code",
      "execution_count": null,
      "metadata": {
        "colab": {
          "base_uri": "https://localhost:8080/"
        },
        "id": "Hjw0WWoHF6Gb",
        "outputId": "28a937c8-d29b-4850-968e-e649643b46eb"
      },
      "outputs": [
        {
          "name": "stdout",
          "output_type": "stream",
          "text": [
            "✅ Done: TXN_REF_NB uniquely matched using fuzzy matching with tolerance, moved to front, and saved correctly.\n"
          ]
        }
      ],
      "source": [
        "import pandas as pd\n",
        "import numpy as np\n",
        "\n",
        "init_df = pd.read_csv(\"CBD_FILES/CBD ATM INIT.csv\", dtype={'TXN_REF_NB': str})\n",
        "output_df = pd.read_csv(\"CBD_FILES/CBD ATM OUTPUT NEW.csv\")\n",
        "\n",
        "init_df['TXN_REF_NB'] = init_df['TXN_REF_NB'].str.zfill(12)\n",
        "\n",
        "init_df_renamed = init_df.rename(columns={\n",
        "    'TXN_AM': 'Amount',\n",
        "    'MRCH_TY_CD': 'Mcc',\n",
        "    'ACPTR_NM': 'Raw Description'\n",
        "})\n",
        "\n",
        "init_df_unique = init_df_renamed.drop_duplicates(subset=['Amount', 'Mcc', 'Raw Description']).copy()\n",
        "\n",
        "init_df_unique['Amount'] = init_df_unique['Amount'].astype(float)\n",
        "output_df['Amount'] = output_df['Amount'].astype(float)\n",
        "\n",
        "def fuzzy_merge_unique(df1, df2, on, tolerance):\n",
        "    merged = []\n",
        "    for idx, row in df2.iterrows():\n",
        "        matches = df1[\n",
        "            (np.abs(df1[on] - row[on]) <= tolerance) &\n",
        "            (df1['Mcc'] == row['Mcc']) &\n",
        "            (df1['Raw Description'] == row['Raw Description']) \n",
        "        ]\n",
        "        if not matches.empty:\n",
        "            matches = matches.copy()\n",
        "            matches['diff'] = np.abs(matches[on] - row[on])\n",
        "            match_row = matches.sort_values('diff').iloc[0]\n",
        "            merged.append({**row, 'TXN_REF_NB': match_row['TXN_REF_NB']})\n",
        "        else:\n",
        "            merged.append({**row, 'TXN_REF_NB': None})\n",
        "    return pd.DataFrame(merged)\n",
        "\n",
        "merged_df = fuzzy_merge_unique(init_df_unique, output_df, 'Amount', tolerance=1)\n",
        "\n",
        "cols = ['TXN_REF_NB'] + [col for col in merged_df.columns if col != 'TXN_REF_NB']\n",
        "merged_df = merged_df[cols]\n",
        "\n",
        "merged_df.to_excel(\"CBD_FILES/CBD ATM OUTPUT FINAL FIX.xlsx\", index=False)\n",
        "\n",
        "print(\"✅ Done: TXN_REF_NB uniquely matched using fuzzy matching with tolerance, moved to front, and saved correctly.\")"
      ]
    },
    {
      "cell_type": "code",
      "execution_count": 17,
      "metadata": {},
      "outputs": [
        {
          "name": "stdout",
          "output_type": "stream",
          "text": [
            "<class 'pandas.core.frame.DataFrame'>\n",
            "RangeIndex: 5000 entries, 0 to 4999\n",
            "Data columns (total 25 columns):\n",
            " #   Column                          Non-Null Count  Dtype  \n",
            "---  ------                          --------------  -----  \n",
            " 0   DP_history_acct_type            5000 non-null   object \n",
            " 1   DP_history_origin_ID            5000 non-null   int64  \n",
            " 2   DP_history_origin_description   5000 non-null   object \n",
            " 3   DP_history_origin_branch_no     4996 non-null   float64\n",
            " 4   DP_history_Transfer_acct_no     839 non-null    object \n",
            " 5   DP_history_Transfer_acct_type   839 non-null    object \n",
            " 6   DP_history_charge_desc          0 non-null      float64\n",
            " 7   DP_history_atm_location         4096 non-null   object \n",
            " 8   DP_history_debit_credit         5000 non-null   object \n",
            " 9   DP_history_PTID                 5000 non-null   object \n",
            " 10  DP_history_parent_ptid          0 non-null      float64\n",
            " 11  DP_history_Transaction_Desc     4957 non-null   object \n",
            " 12  DP_history_Reversal_PTID        18 non-null     float64\n",
            " 13  DP_history_origin_tracer_no     4906 non-null   object \n",
            " 14  DP_history_check_no             389 non-null    float64\n",
            " 15  DP_history_tran_code            5000 non-null   int64  \n",
            " 16  DP_history_tran_code_desc       5000 non-null   object \n",
            " 17  DP_history_Channel_id           5000 non-null   int64  \n",
            " 18  DP_history_Channel_description  5000 non-null   object \n",
            " 19  DP_history_reversal_history     5000 non-null   int64  \n",
            " 20  DP_history_reversal_desc        5000 non-null   object \n",
            " 21  DP_history_create_dt            5000 non-null   object \n",
            " 22  DP_history_posting_Datetime     5000 non-null   object \n",
            " 23  DP_history_amount_LCY           5000 non-null   float64\n",
            " 24  DP_history_amount_FCY           5000 non-null   float64\n",
            "dtypes: float64(7), int64(4), object(14)\n",
            "memory usage: 976.7+ KB\n"
          ]
        }
      ],
      "source": [
        "init_df.info()"
      ]
    },
    {
      "cell_type": "code",
      "execution_count": 15,
      "metadata": {},
      "outputs": [
        {
          "name": "stdout",
          "output_type": "stream",
          "text": [
            "<class 'pandas.core.frame.DataFrame'>\n",
            "RangeIndex: 4957 entries, 0 to 4956\n",
            "Data columns (total 8 columns):\n",
            " #   Column           Non-Null Count  Dtype  \n",
            "---  ------           --------------  -----  \n",
            " 0   id               4957 non-null   int64  \n",
            " 1   Raw description  4957 non-null   object \n",
            " 2   Category         4957 non-null   object \n",
            " 3   Sub category     4957 non-null   object \n",
            " 4   Brand            689 non-null    object \n",
            " 5   Brand logo       668 non-null    object \n",
            " 6   Mcc              4957 non-null   object \n",
            " 7   Amount           4957 non-null   float64\n",
            "dtypes: float64(1), int64(1), object(6)\n",
            "memory usage: 309.9+ KB\n"
          ]
        }
      ],
      "source": [
        "output_df.info()"
      ]
    },
    {
      "cell_type": "markdown",
      "metadata": {
        "id": "l7Nkkn-glYTV"
      },
      "source": [
        "---"
      ]
    },
    {
      "cell_type": "markdown",
      "metadata": {
        "id": "nNFNTXKqnOQD"
      },
      "source": [
        "# **CC (credit)**"
      ]
    },
    {
      "cell_type": "code",
      "execution_count": 11,
      "metadata": {
        "colab": {
          "base_uri": "https://localhost:8080/"
        },
        "id": "PyZuKV_-kBjC",
        "outputId": "4fc50627-479f-462c-e11b-a7ee386a27a4"
      },
      "outputs": [
        {
          "name": "stdout",
          "output_type": "stream",
          "text": [
            "✅ Done: REF_NB uniquely matched using fuzzy matching with tolerance, moved to front, and saved correctly.\n"
          ]
        }
      ],
      "source": [
        "import pandas as pd\n",
        "import numpy as np\n",
        "\n",
        "init_df = pd.read_csv(\"CBD_FILES/CBD CC INIT.csv\", dtype={'REF_NB': str})\n",
        "output_df = pd.read_csv(\"CBD_FILES/CBD CC OUTPUT.csv\")\n",
        "\n",
        "# init_df['REF_NB'] = init_df['REF_NB'].str.zfill(12)\n",
        "\n",
        "init_df_renamed = init_df.rename(columns={\n",
        "    'TXN_AM': 'Amount',\n",
        "    'MRCH_CAT_CD': 'Mcc',\n",
        "    'TXN_DESC_TX': 'Raw description'\n",
        "})\n",
        "\n",
        "init_df_unique = init_df_renamed.drop_duplicates(subset=['Amount', 'Mcc', 'Raw description']).copy()\n",
        "\n",
        "init_df_unique['Amount'] = init_df_unique['Amount'].astype(float)\n",
        "output_df['Amount'] = output_df['Amount'].astype(float)\n",
        "\n",
        "def fuzzy_merge_unique(df1, df2, on, tolerance):\n",
        "    merged = []\n",
        "    for idx, row in df2.iterrows():\n",
        "        matches = df1[\n",
        "            (np.abs(df1[on] - row[on]) <= tolerance) &\n",
        "            (df1['Mcc'] == row['Mcc']) &\n",
        "            (df1['Raw description'] == row['Raw description'])\n",
        "        ]\n",
        "        if not matches.empty:\n",
        "            matches = matches.copy()\n",
        "            matches['diff'] = np.abs(matches[on] - row[on])\n",
        "            match_row = matches.sort_values('diff').iloc[0]\n",
        "            merged.append({**row, 'REF_NB': match_row['REF_NB']})\n",
        "        else:\n",
        "            merged.append({**row, 'REF_NB': None})\n",
        "    return pd.DataFrame(merged)\n",
        "\n",
        "merged_df = fuzzy_merge_unique(init_df_unique, output_df, 'Amount', tolerance=1)\n",
        "\n",
        "cols = ['REF_NB'] + [col for col in merged_df.columns if col != 'REF_NB']\n",
        "merged_df = merged_df[cols]\n",
        "\n",
        "merged_df.to_excel(\"CBD_FILES/CBD CC OUTPUT FINAL FIX.xlsx\", index=False)\n",
        "\n",
        "print(\"✅ Done: REF_NB uniquely matched using fuzzy matching with tolerance, moved to front, and saved correctly.\")"
      ]
    },
    {
      "cell_type": "markdown",
      "metadata": {
        "id": "ChPranHzlrzR"
      },
      "source": [
        "---"
      ]
    },
    {
      "cell_type": "markdown",
      "metadata": {
        "id": "a0qqUJCZvhsa"
      },
      "source": [
        "# **DR**"
      ]
    },
    {
      "cell_type": "code",
      "execution_count": 12,
      "metadata": {
        "colab": {
          "base_uri": "https://localhost:8080/"
        },
        "id": "1EvhYQw4jgQq",
        "outputId": "978b43da-d620-4b05-ef05-83e5d8dc28df"
      },
      "outputs": [
        {
          "name": "stdout",
          "output_type": "stream",
          "text": [
            "✅ Done: DP_history_PTID uniquely matched using fuzzy matching with tolerance, moved to front, and saved correctly.\n"
          ]
        }
      ],
      "source": [
        "import pandas as pd\n",
        "import numpy as np\n",
        "\n",
        "init_df = pd.read_csv(\"CBD_FILES/CBD ACC DR INIT.csv\", dtype={'DP_history_PTID': str})\n",
        "output_df = pd.read_csv(\"CBD_FILES/CBD ACC DR OUTPUT.csv\")\n",
        "\n",
        "init_df_renamed = init_df.rename(columns={\n",
        "    'DP_history_amount_FCY': 'Amount',\n",
        "    'DP_history_Transaction_Desc': 'Raw description'\n",
        "})\n",
        "\n",
        "init_df_unique = init_df_renamed.drop_duplicates(subset=['Amount', 'Raw description']).copy()\n",
        "\n",
        "init_df_unique['Amount'] = init_df_unique['Amount'].astype(float)\n",
        "output_df['Amount'] = output_df['Amount'].astype(float)\n",
        "\n",
        "def fuzzy_merge_unique(df1, df2, on, tolerance):\n",
        "    merged = []\n",
        "    for idx, row in df2.iterrows():\n",
        "        matches = df1[\n",
        "            (np.abs(df1[on] - row[on]) <= tolerance) &\n",
        "            (df1['Raw description'] == row['Raw description'])\n",
        "        ]\n",
        "        if not matches.empty:\n",
        "            matches = matches.copy()\n",
        "            matches['diff'] = np.abs(matches[on] - row[on])\n",
        "            match_row = matches.sort_values('diff').iloc[0]\n",
        "            merged.append({**row, 'DP_history_PTID': match_row['DP_history_PTID']})\n",
        "        else:\n",
        "            merged.append({**row, 'DP_history_PTID': None})\n",
        "    return pd.DataFrame(merged)\n",
        "\n",
        "merged_df = fuzzy_merge_unique(init_df_unique, output_df, 'Amount', tolerance=1)\n",
        "\n",
        "cols = ['DP_history_PTID'] + [col for col in merged_df.columns if col != 'DP_history_PTID']\n",
        "merged_df = merged_df[cols]\n",
        "\n",
        "merged_df.to_excel(\"CBD_FILES/CBD ACC DR OUTPUT FINAL FIX.xlsx\", index=False)\n",
        "\n",
        "print(\"✅ Done: DP_history_PTID uniquely matched using fuzzy matching with tolerance, moved to front, and saved correctly.\")"
      ]
    },
    {
      "cell_type": "markdown",
      "metadata": {
        "id": "IXftewkdly5r"
      },
      "source": [
        "---"
      ]
    },
    {
      "cell_type": "markdown",
      "metadata": {
        "id": "_d3eO1vC8KxI"
      },
      "source": [
        "# **CR**"
      ]
    },
    {
      "cell_type": "code",
      "execution_count": 13,
      "metadata": {
        "colab": {
          "base_uri": "https://localhost:8080/"
        },
        "id": "Faw5_0hH8Iw0",
        "outputId": "b4b10fb7-88c2-4fda-bc37-7dca56fb9e96"
      },
      "outputs": [
        {
          "name": "stdout",
          "output_type": "stream",
          "text": [
            "✅ Done: DP_history_PTID uniquely matched using fuzzy matching with tolerance, moved to front, and saved correctly.\n"
          ]
        }
      ],
      "source": [
        "import pandas as pd\n",
        "import numpy as np\n",
        "\n",
        "init_df = pd.read_csv(\"CBD_FILES/CBD ACC CR INIT.csv\", dtype={'DP_history_PTID': str})\n",
        "output_df = pd.read_csv(\"CBD_FILES/CBD ACC CR OUTPUT.csv\")\n",
        "\n",
        "init_df_renamed = init_df.rename(columns={\n",
        "    'DP_history_amount_FCY': 'Amount',\n",
        "    'DP_history_Transaction_Desc': 'Raw description'\n",
        "})\n",
        "\n",
        "init_df_unique = init_df_renamed.drop_duplicates(subset=['Amount', 'Raw description']).copy()\n",
        "\n",
        "init_df_unique['Amount'] = init_df_unique['Amount'].astype(float)\n",
        "output_df['Amount'] = output_df['Amount'].astype(float)\n",
        "\n",
        "def fuzzy_merge_unique(df1, df2, on, tolerance):\n",
        "    merged = []\n",
        "    for idx, row in df2.iterrows():\n",
        "        matches = df1[\n",
        "            (np.abs(df1[on] - row[on]) <= tolerance) &\n",
        "            (df1['Raw description'] == row['Raw description'])\n",
        "        ]\n",
        "        if not matches.empty:\n",
        "            matches = matches.copy()\n",
        "            matches['diff'] = np.abs(matches[on] - row[on])\n",
        "            match_row = matches.sort_values('diff').iloc[0]\n",
        "            merged.append({**row, 'DP_history_PTID': match_row['DP_history_PTID']})\n",
        "        else:\n",
        "            merged.append({**row, 'DP_history_PTID': None})\n",
        "    return pd.DataFrame(merged)\n",
        "\n",
        "merged_df = fuzzy_merge_unique(init_df_unique, output_df, 'Amount', tolerance=1)\n",
        "\n",
        "cols = ['DP_history_PTID'] + [col for col in merged_df.columns if col != 'DP_history_PTID']\n",
        "merged_df = merged_df[cols]\n",
        "\n",
        "merged_df.to_excel(\"CBD_FILES/CBD ACC CR OUTPUT FINAL FIX.xlsx\", index=False)\n",
        "\n",
        "print(\"✅ Done: DP_history_PTID uniquely matched using fuzzy matching with tolerance, moved to front, and saved correctly.\")"
      ]
    }
  ],
  "metadata": {
    "colab": {
      "provenance": []
    },
    "kernelspec": {
      "display_name": "Python 3",
      "name": "python3"
    },
    "language_info": {
      "codemirror_mode": {
        "name": "ipython",
        "version": 3
      },
      "file_extension": ".py",
      "mimetype": "text/x-python",
      "name": "python",
      "nbconvert_exporter": "python",
      "pygments_lexer": "ipython3",
      "version": "3.9.6"
    }
  },
  "nbformat": 4,
  "nbformat_minor": 0
}
